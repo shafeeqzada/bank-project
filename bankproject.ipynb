{
  "cells": [
    {
      "cell_type": "code",
      "execution_count": null,
      "metadata": {
        "colab": {
          "background_save": true
        },
        "id": "r3Ffx3Vq5vOH"
      },
      "outputs": [],
      "source": [
        "import os\n",
        "\n",
        "def create_account(name, initial_balance=0.0):\n",
        "\n",
        "    account = {'name': name,'balance': initial_balance,'transactions': []}\n",
        "    save_transactions(account)\n",
        "    print(f\"Account for {name} created with balance ${initial_balance:.2f}.\")\n",
        "    return account\n"
      ]
    },
    {
      "cell_type": "code",
      "execution_count": null,
      "metadata": {
        "colab": {
          "background_save": true
        },
        "id": "wYKNyRJF66ab"
      },
      "outputs": [],
      "source": [
        "def deposit(account, amount):\n",
        "\n",
        "    if amount <= 0:\n",
        "        print(\"Please Enter a Valid amount.\")\n",
        "        return account\n",
        "\n",
        "    account[\"balance\"] += amount\n",
        "    account[\"transactions\"].append((\"Deposit\", amount))\n",
        "    save_transactions(account)\n",
        "    print(f\"Deposited ${amount:.2f}. New balance: ${account['balance']:.2f}.\")\n",
        "    return account\n"
      ]
    },
    {
      "cell_type": "code",
      "execution_count": null,
      "metadata": {
        "colab": {
          "background_save": true
        },
        "id": "l5BajFLx7nPB"
      },
      "outputs": [],
      "source": [
        "def withdraw(account, amount):\n",
        "\n",
        "    if amount <= 0:\n",
        "        print(\"Please Enter a Valid amount.\")\n",
        "        return account\n",
        "\n",
        "    if amount > account[\"balance\"]:\n",
        "        print(\"Insufficient balance. Transaction declined.\")\n",
        "        return account\n",
        "\n",
        "    account[\"balance\"] -= amount\n",
        "    account[\"transactions\"].append((\"Withdrawal\", amount))\n",
        "    save_transactions(account)\n",
        "    print(f\"Withdrew ${amount:.2f}. New balance: ${account['balance']:.2f}.\")\n",
        "    return account\n",
        "\n",
        "def check_balance(account):\n",
        "\n",
        "    print(f\"Current balance: ${account['balance']:.2f}.\")\n",
        "    return account[\"balance\"]"
      ]
    },
    {
      "cell_type": "code",
      "execution_count": null,
      "metadata": {
        "colab": {
          "background_save": true
        },
        "id": "foi7CbsQ7zzj"
      },
      "outputs": [],
      "source": [
        "def print_statement(account):\n",
        "\n",
        "    print(f\"Account statement for {account['name']}:\\n\")\n",
        "    if not account[\"transactions\"]:\n",
        "        print(\"No transactions available.\")\n",
        "    else:\n",
        "        for txn_type, amount in account[\"transactions\"]:\n",
        "            print(f\"- {txn_type}: ${amount:.2f}\")\n",
        "    print(f\"Final Balance: ${account['balance']:.2f}\")\n"
      ]
    },
    {
      "cell_type": "code",
      "execution_count": null,
      "metadata": {
        "colab": {
          "background_save": true
        },
        "id": "3GLon4Pd73wS"
      },
      "outputs": [],
      "source": [
        "def save_transactions(account):\n",
        "\n",
        "    filename = f\"{account['name'].replace(' ', '_').lower()}_transactions.txt\"\n",
        "    with open(filename, \"w\") as file:\n",
        "        file.write(f\"Account Holder: {account['name']}\\n\")\n",
        "        file.write(f\"Balance: ${account['balance']:.2f}\\n\")\n",
        "        file.write(\"Transactions:\\n\")\n",
        "        for txn_type, amount in account[\"transactions\"]:\n",
        "            file.write(f\"- {txn_type}: ${amount:.2f}\\n\")"
      ]
    },
    {
      "cell_type": "code",
      "execution_count": null,
      "metadata": {
        "colab": {
          "background_save": true
        },
        "id": "OLO3Ieu879Cs"
      },
      "outputs": [],
      "source": [
        "def load_transactions(name):\n",
        "\n",
        "    filename = f\"{name.replace(' ', '_').lower()}_transactions.txt\"\n",
        "    if not os.path.exists(filename):\n",
        "        print(\"Account not Availaible.\")\n",
        "        return create_account(name)\n",
        "\n",
        "    with open(filename, \"r\") as file:\n",
        "        lines = file.readlines()\n",
        "        balance = float(lines[1].split(\": $\")[1].strip())\n",
        "        transactions = []\n",
        "        for line in lines[3:]:\n",
        "            txn_type, amount = line.strip(\"- \").split(\": $\")\n",
        "            transactions.append((txn_type, float(amount)))\n",
        "\n",
        "    account = {\n",
        "        \"name\": name,\n",
        "        \"balance\": balance,\n",
        "        \"transactions\": transactions\n",
        "    }\n",
        "    print(f\"Loaded account for {name} with balance ${balance:.2f}.\")\n",
        "    return account\n"
      ]
    },
    {
      "cell_type": "code",
      "execution_count": null,
      "metadata": {
        "colab": {
          "background_save": true,
          "base_uri": "https://localhost:8080/"
        },
        "id": "zDi6goyp8Cnm",
        "outputId": "005d55d3-168a-4cb4-e868-72beff17f1e3"
      },
      "outputs": [
        {
          "name": "stdout",
          "output_type": "stream",
          "text": [
            "\n",
            "Welcome To Our Banking System Menu:\n",
            "1. Create an Account\n",
            "2. Deposit Money\n",
            "3. Withdraw Money\n",
            "4. Check Balance\n",
            "5. Print Transaction Statement\n",
            "6. logout\n",
            "7. Exit\n",
            "Invalid choice. Please select a valid option.\n",
            "\n",
            "Welcome To Our Banking System Menu:\n",
            "1. Create an Account\n",
            "2. Deposit Money\n",
            "3. Withdraw Money\n",
            "4. Check Balance\n",
            "5. Print Transaction Statement\n",
            "6. logout\n",
            "7. Exit\n",
            "Thank You for Using our Banking system!\n"
          ]
        }
      ],
      "source": [
        "def main():\n",
        "\n",
        "    account = None\n",
        "    while True:\n",
        "        print(\"\\nWelcome To Our Banking System Menu:\")\n",
        "        print(\"1. Create an Account\")\n",
        "        print(\"2. Deposit Money\")\n",
        "        print(\"3. Withdraw Money\")\n",
        "        print(\"4. Check Balance\")\n",
        "        print(\"5. Print Transaction Statement\")\n",
        "        print(\"6. logout\")\n",
        "        print(\"7. Exit\")\n",
        "        choice = input(\"Please Select an option: \")\n",
        "\n",
        "        if choice == \"1\":\n",
        "            name = input(\"Enter your name Here: \")\n",
        "            cnic = input(\"Enter your CNIC num Here: \")\n",
        "            initial_balance = 0\n",
        "            account = create_account(name, initial_balance)\n",
        "\n",
        "        elif choice == \"2\":\n",
        "            if account:\n",
        "                amount = float(input(\"How much amount you want to deposit: \"))\n",
        "                account = deposit(account, amount)\n",
        "            else:\n",
        "                print(\"Please create an account by selecting option 1.\")\n",
        "\n",
        "        elif choice == \"3\":\n",
        "            if account:\n",
        "                amount = float(input(\"How much amount you want to withdraw: \"))\n",
        "                account = withdraw(account, amount)\n",
        "            else:\n",
        "                print(\"Please create an account by selecting option 1.\")\n",
        "\n",
        "        elif choice == \"4\":\n",
        "            if account:\n",
        "                check_balance(account)\n",
        "            else:\n",
        "                print(\"Please create an account by selecting option 1.\")\n",
        "\n",
        "        elif choice == \"5\":\n",
        "            if account:\n",
        "                print_statement(account)\n",
        "            else:\n",
        "                print(\"Please create an account by selecting option 1.\")\n",
        "\n",
        "        elif choice == \"6\":\n",
        "           print(\"Logged out successfully\")\n",
        "           break\n",
        "\n",
        "        elif choice == \"7\":\n",
        "            print(\"Thank You for Using our Banking system!\")\n",
        "            break\n",
        "\n",
        "        else:\n",
        "            print(\"Invalid choice. Please select a valid option.\")\n",
        "\n",
        "if __name__ == \"__main__\":\n",
        "    main()"
      ]
    }
  ],
  "metadata": {
    "colab": {
      "provenance": []
    },
    "kernelspec": {
      "display_name": "Python 3",
      "name": "python3"
    },
    "language_info": {
      "name": "python"
    }
  },
  "nbformat": 4,
  "nbformat_minor": 0
}